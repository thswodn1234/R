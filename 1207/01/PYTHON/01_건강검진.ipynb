{
 "cells": [
  {
   "cell_type": "markdown",
   "metadata": {},
   "source": [
    "# 건강검진 대상증후군 분석"
   ]
  },
  {
   "cell_type": "code",
   "execution_count": 3,
   "metadata": {},
   "outputs": [],
   "source": [
    "\n",
    "import pandas as pd\n"
   ]
  },
  {
   "cell_type": "code",
   "execution_count": 4,
   "metadata": {},
   "outputs": [
    {
     "data": {
      "text/plain": [
       "<bound method NDFrame.head of         기준년도  가입자 일련번호  시도코드  성별코드  연령대 코드(5세단위)  신장(5Cm단위)  체중(5Kg 단위)  허리둘레  \\\n",
       "0       2020         1    36     1             9        165          60  72.1   \n",
       "1       2020         2    27     2            13        150          65  81.0   \n",
       "2       2020         3    11     2            12        155          55  70.0   \n",
       "3       2020         4    31     1            13        160          70  90.8   \n",
       "4       2020         5    41     2            12        155          50  75.2   \n",
       "...      ...       ...   ...   ...           ...        ...         ...   ...   \n",
       "999995  2020    999996    41     2            13        145          55  81.0   \n",
       "999996  2020    999997    26     2            12        160          55  76.5   \n",
       "999997  2020    999998    48     1             9        175          70  85.0   \n",
       "999998  2020    999999    48     2             9        160          70  91.0   \n",
       "999999  2020   1000000    28     1            11        160          55  76.1   \n",
       "\n",
       "        시력(좌)  시력(우)  ...  혈청크레아티닌  (혈청지오티)AST  (혈청지오티)ALT  감마 지티피  흡연상태  \\\n",
       "0         1.2    1.5  ...      1.1        21.0        27.0    21.0   1.0   \n",
       "1         0.8    0.8  ...      0.5        18.0        15.0    15.0   1.0   \n",
       "2         0.6    0.7  ...      0.7        27.0        25.0     7.0   1.0   \n",
       "3         1.0    1.0  ...      1.2        65.0        97.0    72.0   1.0   \n",
       "4         1.5    1.2  ...      0.7        18.0        17.0    14.0   1.0   \n",
       "...       ...    ...  ...      ...         ...         ...     ...   ...   \n",
       "999995    0.9    1.0  ...      0.6        21.0        25.0    18.0   1.0   \n",
       "999996    1.5    1.5  ...      0.8        21.0        14.0    19.0   1.0   \n",
       "999997    1.2    1.2  ...      0.9        26.0        20.0    17.0   1.0   \n",
       "999998    0.6    0.5  ...      1.0        25.0        29.0    13.0   1.0   \n",
       "999999    2.0    2.0  ...      0.9        17.0        13.0    24.0   2.0   \n",
       "\n",
       "        음주여부  구강검진 수검여부  치아우식증유무   치석    데이터 공개일자  \n",
       "0        0.0          0      NaN  NaN  2021-12-29  \n",
       "1        0.0          0      NaN  NaN  2021-12-29  \n",
       "2        0.0          0      NaN  NaN  2021-12-29  \n",
       "3        0.0          1      0.0  0.0  2021-12-29  \n",
       "4        0.0          0      NaN  NaN  2021-12-29  \n",
       "...      ...        ...      ...  ...         ...  \n",
       "999995   0.0          0      NaN  NaN  2021-12-29  \n",
       "999996   1.0          0      NaN  NaN  2021-12-29  \n",
       "999997   1.0          0      NaN  NaN  2021-12-29  \n",
       "999998   0.0          0      NaN  NaN  2021-12-29  \n",
       "999999   0.0          0      NaN  NaN  2021-12-29  \n",
       "\n",
       "[1000000 rows x 31 columns]>"
      ]
     },
     "execution_count": 4,
     "metadata": {},
     "output_type": "execute_result"
    }
   ],
   "source": [
    "df = pd.read_csv(\"../국민건강보험공단_건강검진정보_20211229.CSV\",encoding='cp949')\n",
    "df.head"
   ]
  },
  {
   "cell_type": "markdown",
   "metadata": {},
   "source": [
    "- 데이터 프레임 자료 가져오기"
   ]
  },
  {
   "cell_type": "markdown",
   "metadata": {},
   "source": [
    "- 열명확인 및 변경"
   ]
  },
  {
   "cell_type": "code",
   "execution_count": 10,
   "metadata": {},
   "outputs": [
    {
     "data": {
      "text/plain": [
       "Index(['기준년도', '가입자 일련번호', '시도코드', '성별코드', '연령대 코드(5세단위)', '신장(5Cm단위)',\n",
       "       '체중(5Kg 단위)', '허리둘레', '시력(좌)', '시력(우)', '청력(좌)', '청력(우)', '수축기 혈압',\n",
       "       '이완기 혈압', '식전혈당(공복혈당)', '총 콜레스테롤', '트리글리세라이드', 'HDL 콜레스테롤', 'LDL 콜레스테롤',\n",
       "       '혈색소', '요단백', '혈청크레아티닌', '(혈청지오티)AST', '(혈청지오티)ALT', '감마 지티피', '흡연상태',\n",
       "       '음주여부', '구강검진 수검여부', '치아우식증유무', '치석', '데이터 공개일자'],\n",
       "      dtype='object')"
      ]
     },
     "execution_count": 10,
     "metadata": {},
     "output_type": "execute_result"
    }
   ],
   "source": [
    "df.columns"
   ]
  },
  {
   "cell_type": "code",
   "execution_count": 14,
   "metadata": {},
   "outputs": [
    {
     "data": {
      "text/plain": [
       "['기준년도',\n",
       " '가입자 일련번호',\n",
       " '시도코드',\n",
       " '성별코드',\n",
       " '연령대 코드(5세단위)',\n",
       " '신장(5Cm단위)',\n",
       " '체중(5Kg 단위)',\n",
       " '허리둘레',\n",
       " '시력(좌)',\n",
       " '시력(우)',\n",
       " '청력(좌)',\n",
       " '청력(우)',\n",
       " '수축기 혈압',\n",
       " '이완기 혈압',\n",
       " '식전혈당(공복혈당)',\n",
       " '총 콜레스테롤',\n",
       " '트리글리세라이드',\n",
       " 'HDL 콜레스테롤',\n",
       " 'LDL 콜레스테롤',\n",
       " '혈색소',\n",
       " '요단백',\n",
       " '혈청크레아티닌',\n",
       " '(혈청지오티)AST',\n",
       " '(혈청지오티)ALT',\n",
       " '감마 지티피',\n",
       " '흡연상태',\n",
       " '음주여부',\n",
       " '구강검진 수검여부',\n",
       " '치아우식증유무',\n",
       " '치석',\n",
       " '데이터 공개일자']"
      ]
     },
     "execution_count": 14,
     "metadata": {},
     "output_type": "execute_result"
    }
   ],
   "source": [
    "cc = list(df.columns)\n",
    "cc"
   ]
  },
  {
   "cell_type": "code",
   "execution_count": 15,
   "metadata": {},
   "outputs": [
    {
     "name": "stdout",
     "output_type": "stream",
     "text": [
      "기준년도\n",
      "가입자 일련번호\n",
      "시도코드\n",
      "성별코드\n",
      "연령대 코드(5세단위)\n",
      "신장(5Cm단위)\n",
      "체중(5Kg 단위)\n",
      "허리둘레\n",
      "시력(좌)\n",
      "시력(우)\n",
      "청력(좌)\n",
      "청력(우)\n",
      "수축기 혈압\n",
      "이완기 혈압\n",
      "식전혈당(공복혈당)\n",
      "총 콜레스테롤\n",
      "트리글리세라이드\n",
      "HDL 콜레스테롤\n",
      "LDL 콜레스테롤\n",
      "혈색소\n",
      "요단백\n",
      "혈청크레아티닌\n",
      "(혈청지오티)AST\n",
      "(혈청지오티)ALT\n",
      "감마 지티피\n",
      "흡연상태\n",
      "음주여부\n",
      "구강검진 수검여부\n",
      "치아우식증유무\n",
      "치석\n",
      "데이터 공개일자\n"
     ]
    }
   ],
   "source": [
    "for c in cc:\n",
    "    print(c)"
   ]
  },
  {
   "cell_type": "code",
   "execution_count": 16,
   "metadata": {},
   "outputs": [
    {
     "name": "stdout",
     "output_type": "stream",
     "text": [
      "0 기준년도\n",
      "1 가입자 일련번호\n",
      "2 시도코드\n",
      "3 성별코드\n",
      "4 연령대 코드(5세단위)\n",
      "5 신장(5Cm단위)\n",
      "6 체중(5Kg 단위)\n",
      "7 허리둘레\n",
      "8 시력(좌)\n",
      "9 시력(우)\n",
      "10 청력(좌)\n",
      "11 청력(우)\n",
      "12 수축기 혈압\n",
      "13 이완기 혈압\n",
      "14 식전혈당(공복혈당)\n",
      "15 총 콜레스테롤\n",
      "16 트리글리세라이드\n",
      "17 HDL 콜레스테롤\n",
      "18 LDL 콜레스테롤\n",
      "19 혈색소\n",
      "20 요단백\n",
      "21 혈청크레아티닌\n",
      "22 (혈청지오티)AST\n",
      "23 (혈청지오티)ALT\n",
      "24 감마 지티피\n",
      "25 흡연상태\n",
      "26 음주여부\n",
      "27 구강검진 수검여부\n",
      "28 치아우식증유무\n",
      "29 치석\n",
      "30 데이터 공개일자\n"
     ]
    }
   ],
   "source": [
    "for i, c in enumerate(cc):\n",
    "    print(i, c)"
   ]
  },
  {
   "cell_type": "code",
   "execution_count": 5,
   "metadata": {},
   "outputs": [
    {
     "data": {
      "text/plain": [
       "RangeIndex(start=0, stop=1000000, step=1)"
      ]
     },
     "execution_count": 5,
     "metadata": {},
     "output_type": "execute_result"
    }
   ],
   "source": [
    "df.index"
   ]
  },
  {
   "cell_type": "markdown",
   "metadata": {},
   "source": [
    "- 필요한 열 가져오기"
   ]
  },
  {
   "cell_type": "code",
   "execution_count": 6,
   "metadata": {},
   "outputs": [
    {
     "data": {
      "text/plain": [
       "0         1\n",
       "1         2\n",
       "2         2\n",
       "3         1\n",
       "4         2\n",
       "         ..\n",
       "999995    2\n",
       "999996    2\n",
       "999997    1\n",
       "999998    2\n",
       "999999    1\n",
       "Name: 성별코드, Length: 1000000, dtype: int64"
      ]
     },
     "execution_count": 6,
     "metadata": {},
     "output_type": "execute_result"
    }
   ],
   "source": [
    "df['성별코드']"
   ]
  },
  {
   "cell_type": "code",
   "execution_count": 8,
   "metadata": {},
   "outputs": [
    {
     "data": {
      "text/html": [
       "<div>\n",
       "<style scoped>\n",
       "    .dataframe tbody tr th:only-of-type {\n",
       "        vertical-align: middle;\n",
       "    }\n",
       "\n",
       "    .dataframe tbody tr th {\n",
       "        vertical-align: top;\n",
       "    }\n",
       "\n",
       "    .dataframe thead th {\n",
       "        text-align: right;\n",
       "    }\n",
       "</style>\n",
       "<table border=\"1\" class=\"dataframe\">\n",
       "  <thead>\n",
       "    <tr style=\"text-align: right;\">\n",
       "      <th></th>\n",
       "      <th>성별코드</th>\n",
       "      <th>허리둘레</th>\n",
       "      <th>수축기 혈압</th>\n",
       "      <th>이완기 혈압</th>\n",
       "      <th>식전혈당(공복혈당)</th>\n",
       "      <th>트리글리세라이드</th>\n",
       "      <th>HDL 콜레스테롤</th>\n",
       "    </tr>\n",
       "  </thead>\n",
       "  <tbody>\n",
       "    <tr>\n",
       "      <th>0</th>\n",
       "      <td>1</td>\n",
       "      <td>72.1</td>\n",
       "      <td>127.0</td>\n",
       "      <td>79.0</td>\n",
       "      <td>90.0</td>\n",
       "      <td>58.0</td>\n",
       "      <td>58.0</td>\n",
       "    </tr>\n",
       "    <tr>\n",
       "      <th>1</th>\n",
       "      <td>2</td>\n",
       "      <td>81.0</td>\n",
       "      <td>110.0</td>\n",
       "      <td>73.0</td>\n",
       "      <td>87.0</td>\n",
       "      <td>NaN</td>\n",
       "      <td>NaN</td>\n",
       "    </tr>\n",
       "    <tr>\n",
       "      <th>2</th>\n",
       "      <td>2</td>\n",
       "      <td>70.0</td>\n",
       "      <td>123.0</td>\n",
       "      <td>80.0</td>\n",
       "      <td>102.0</td>\n",
       "      <td>NaN</td>\n",
       "      <td>NaN</td>\n",
       "    </tr>\n",
       "    <tr>\n",
       "      <th>3</th>\n",
       "      <td>1</td>\n",
       "      <td>90.8</td>\n",
       "      <td>134.0</td>\n",
       "      <td>84.0</td>\n",
       "      <td>146.0</td>\n",
       "      <td>NaN</td>\n",
       "      <td>NaN</td>\n",
       "    </tr>\n",
       "    <tr>\n",
       "      <th>4</th>\n",
       "      <td>2</td>\n",
       "      <td>75.2</td>\n",
       "      <td>144.0</td>\n",
       "      <td>89.0</td>\n",
       "      <td>110.0</td>\n",
       "      <td>171.0</td>\n",
       "      <td>53.0</td>\n",
       "    </tr>\n",
       "    <tr>\n",
       "      <th>...</th>\n",
       "      <td>...</td>\n",
       "      <td>...</td>\n",
       "      <td>...</td>\n",
       "      <td>...</td>\n",
       "      <td>...</td>\n",
       "      <td>...</td>\n",
       "      <td>...</td>\n",
       "    </tr>\n",
       "    <tr>\n",
       "      <th>999995</th>\n",
       "      <td>2</td>\n",
       "      <td>81.0</td>\n",
       "      <td>132.0</td>\n",
       "      <td>78.0</td>\n",
       "      <td>124.0</td>\n",
       "      <td>301.0</td>\n",
       "      <td>43.0</td>\n",
       "    </tr>\n",
       "    <tr>\n",
       "      <th>999996</th>\n",
       "      <td>2</td>\n",
       "      <td>76.5</td>\n",
       "      <td>100.0</td>\n",
       "      <td>64.0</td>\n",
       "      <td>98.0</td>\n",
       "      <td>93.0</td>\n",
       "      <td>71.0</td>\n",
       "    </tr>\n",
       "    <tr>\n",
       "      <th>999997</th>\n",
       "      <td>1</td>\n",
       "      <td>85.0</td>\n",
       "      <td>110.0</td>\n",
       "      <td>64.0</td>\n",
       "      <td>83.0</td>\n",
       "      <td>NaN</td>\n",
       "      <td>NaN</td>\n",
       "    </tr>\n",
       "    <tr>\n",
       "      <th>999998</th>\n",
       "      <td>2</td>\n",
       "      <td>91.0</td>\n",
       "      <td>137.0</td>\n",
       "      <td>82.0</td>\n",
       "      <td>111.0</td>\n",
       "      <td>113.0</td>\n",
       "      <td>59.0</td>\n",
       "    </tr>\n",
       "    <tr>\n",
       "      <th>999999</th>\n",
       "      <td>1</td>\n",
       "      <td>76.1</td>\n",
       "      <td>133.0</td>\n",
       "      <td>74.0</td>\n",
       "      <td>121.0</td>\n",
       "      <td>63.0</td>\n",
       "      <td>68.0</td>\n",
       "    </tr>\n",
       "  </tbody>\n",
       "</table>\n",
       "<p>1000000 rows × 7 columns</p>\n",
       "</div>"
      ],
      "text/plain": [
       "        성별코드  허리둘레  수축기 혈압  이완기 혈압  식전혈당(공복혈당)  트리글리세라이드  HDL 콜레스테롤\n",
       "0          1  72.1   127.0    79.0        90.0      58.0       58.0\n",
       "1          2  81.0   110.0    73.0        87.0       NaN        NaN\n",
       "2          2  70.0   123.0    80.0       102.0       NaN        NaN\n",
       "3          1  90.8   134.0    84.0       146.0       NaN        NaN\n",
       "4          2  75.2   144.0    89.0       110.0     171.0       53.0\n",
       "...      ...   ...     ...     ...         ...       ...        ...\n",
       "999995     2  81.0   132.0    78.0       124.0     301.0       43.0\n",
       "999996     2  76.5   100.0    64.0        98.0      93.0       71.0\n",
       "999997     1  85.0   110.0    64.0        83.0       NaN        NaN\n",
       "999998     2  91.0   137.0    82.0       111.0     113.0       59.0\n",
       "999999     1  76.1   133.0    74.0       121.0      63.0       68.0\n",
       "\n",
       "[1000000 rows x 7 columns]"
      ]
     },
     "execution_count": 8,
     "metadata": {},
     "output_type": "execute_result"
    }
   ],
   "source": [
    "df2 = df[['성별코드', '허리둘레', '수축기 혈압', '이완기 혈압', '식전혈당(공복혈당)', '트리글리세라이드','HDL 콜레스테롤']]\n",
    "df2"
   ]
  },
  {
   "cell_type": "code",
   "execution_count": 10,
   "metadata": {},
   "outputs": [
    {
     "data": {
      "text/plain": [
       "Index(['성별코드', '허리둘레', '수축기 혈압', '이완기 혈압', '식전혈당(공복혈당)', '트리글리세라이드',\n",
       "       'HDL 콜레스테롤'],\n",
       "      dtype='object')"
      ]
     },
     "execution_count": 10,
     "metadata": {},
     "output_type": "execute_result"
    }
   ],
   "source": [
    "df2.columns = ['성별코드', '허리둘레', '수축기 혈압', '이완기 혈압', '식전혈당(공복혈당)', '트리글리세라이드','HDL 콜레스테롤']\n",
    "df2.columns"
   ]
  },
  {
   "cell_type": "code",
   "execution_count": 11,
   "metadata": {},
   "outputs": [
    {
     "data": {
      "text/plain": [
       "['성별코드', '허리둘레', '수축기 혈압', '이완기 혈압', '식전혈당(공복혈당)', '트리글리세라이드', 'HDL 콜레스테롤']"
      ]
     },
     "execution_count": 11,
     "metadata": {},
     "output_type": "execute_result"
    }
   ],
   "source": [
    "lt = list(df2.columns)\n",
    "lt"
   ]
  },
  {
   "cell_type": "code",
   "execution_count": 14,
   "metadata": {},
   "outputs": [
    {
     "data": {
      "text/plain": [
       "['성별코드', '허리둘레', '수축기혈압', '이완기혈압', '식전혈당(공복혈당)', '트리글리세라이드', 'HDL콜레스테롤']"
      ]
     },
     "execution_count": 14,
     "metadata": {},
     "output_type": "execute_result"
    }
   ],
   "source": [
    "lt = [c.replace(' ','') for c in lt]\n",
    "lt"
   ]
  },
  {
   "cell_type": "code",
   "execution_count": 16,
   "metadata": {},
   "outputs": [],
   "source": [
    "lt[4] = '공복혈당'"
   ]
  },
  {
   "cell_type": "code",
   "execution_count": 17,
   "metadata": {},
   "outputs": [
    {
     "data": {
      "text/plain": [
       "<bound method NDFrame.head of         성별코드  허리둘레  수축기혈압  이완기혈압   공복혈당  트리글리세라이드  HDL콜레스테롤\n",
       "0          1  72.1  127.0   79.0   90.0      58.0      58.0\n",
       "1          2  81.0  110.0   73.0   87.0       NaN       NaN\n",
       "2          2  70.0  123.0   80.0  102.0       NaN       NaN\n",
       "3          1  90.8  134.0   84.0  146.0       NaN       NaN\n",
       "4          2  75.2  144.0   89.0  110.0     171.0      53.0\n",
       "...      ...   ...    ...    ...    ...       ...       ...\n",
       "999995     2  81.0  132.0   78.0  124.0     301.0      43.0\n",
       "999996     2  76.5  100.0   64.0   98.0      93.0      71.0\n",
       "999997     1  85.0  110.0   64.0   83.0       NaN       NaN\n",
       "999998     2  91.0  137.0   82.0  111.0     113.0      59.0\n",
       "999999     1  76.1  133.0   74.0  121.0      63.0      68.0\n",
       "\n",
       "[1000000 rows x 7 columns]>"
      ]
     },
     "execution_count": 17,
     "metadata": {},
     "output_type": "execute_result"
    }
   ],
   "source": [
    "df2.columns = lt\n",
    "df2.head"
   ]
  },
  {
   "cell_type": "code",
   "execution_count": 18,
   "metadata": {},
   "outputs": [
    {
     "name": "stdout",
     "output_type": "stream",
     "text": [
      "<class 'pandas.core.frame.DataFrame'>\n",
      "Int64Index: 402249 entries, 0 to 999999\n",
      "Data columns (total 7 columns):\n",
      " #   Column    Non-Null Count   Dtype  \n",
      "---  ------    --------------   -----  \n",
      " 0   성별코드      402249 non-null  int64  \n",
      " 1   허리둘레      402249 non-null  float64\n",
      " 2   수축기혈압     402249 non-null  float64\n",
      " 3   이완기혈압     402249 non-null  float64\n",
      " 4   공복혈당      402249 non-null  float64\n",
      " 5   트리글리세라이드  402249 non-null  float64\n",
      " 6   HDL콜레스테롤  402249 non-null  float64\n",
      "dtypes: float64(6), int64(1)\n",
      "memory usage: 24.6 MB\n"
     ]
    }
   ],
   "source": [
    "df2 = df2.dropna(axis=0)\n",
    "df2.info()"
   ]
  },
  {
   "cell_type": "code",
   "execution_count": 19,
   "metadata": {},
   "outputs": [],
   "source": [
    "import numpy as np"
   ]
  },
  {
   "cell_type": "code",
   "execution_count": 21,
   "metadata": {},
   "outputs": [
    {
     "name": "stderr",
     "output_type": "stream",
     "text": [
      "C:\\Users\\user\\AppData\\Local\\Temp\\ipykernel_19140\\691608869.py:1: SettingWithCopyWarning: \n",
      "A value is trying to be set on a copy of a slice from a DataFrame.\n",
      "Try using .loc[row_indexer,col_indexer] = value instead\n",
      "\n",
      "See the caveats in the documentation: https://pandas.pydata.org/pandas-docs/stable/user_guide/indexing.html#returning-a-view-versus-a-copy\n",
      "  df2['높은혈압'] = np.where((df2['수축기혈압'] >= 130) | (df2['이완기혈압'] >= 85),1,0)\n"
     ]
    }
   ],
   "source": [
    "df2['높은혈압'] = np.where((df2['수축기혈압'] >= 130) | (df2['이완기혈압'] >= 85),1,0)"
   ]
  },
  {
   "cell_type": "code",
   "execution_count": 22,
   "metadata": {},
   "outputs": [
    {
     "data": {
      "text/html": [
       "<div>\n",
       "<style scoped>\n",
       "    .dataframe tbody tr th:only-of-type {\n",
       "        vertical-align: middle;\n",
       "    }\n",
       "\n",
       "    .dataframe tbody tr th {\n",
       "        vertical-align: top;\n",
       "    }\n",
       "\n",
       "    .dataframe thead th {\n",
       "        text-align: right;\n",
       "    }\n",
       "</style>\n",
       "<table border=\"1\" class=\"dataframe\">\n",
       "  <thead>\n",
       "    <tr style=\"text-align: right;\">\n",
       "      <th></th>\n",
       "      <th>성별코드</th>\n",
       "      <th>허리둘레</th>\n",
       "      <th>수축기혈압</th>\n",
       "      <th>이완기혈압</th>\n",
       "      <th>공복혈당</th>\n",
       "      <th>트리글리세라이드</th>\n",
       "      <th>HDL콜레스테롤</th>\n",
       "      <th>높은혈압</th>\n",
       "    </tr>\n",
       "  </thead>\n",
       "  <tbody>\n",
       "    <tr>\n",
       "      <th>0</th>\n",
       "      <td>1</td>\n",
       "      <td>72.1</td>\n",
       "      <td>127.0</td>\n",
       "      <td>79.0</td>\n",
       "      <td>90.0</td>\n",
       "      <td>58.0</td>\n",
       "      <td>58.0</td>\n",
       "      <td>0</td>\n",
       "    </tr>\n",
       "    <tr>\n",
       "      <th>4</th>\n",
       "      <td>2</td>\n",
       "      <td>75.2</td>\n",
       "      <td>144.0</td>\n",
       "      <td>89.0</td>\n",
       "      <td>110.0</td>\n",
       "      <td>171.0</td>\n",
       "      <td>53.0</td>\n",
       "      <td>1</td>\n",
       "    </tr>\n",
       "    <tr>\n",
       "      <th>5</th>\n",
       "      <td>1</td>\n",
       "      <td>94.0</td>\n",
       "      <td>114.0</td>\n",
       "      <td>72.0</td>\n",
       "      <td>86.0</td>\n",
       "      <td>183.0</td>\n",
       "      <td>50.0</td>\n",
       "      <td>0</td>\n",
       "    </tr>\n",
       "    <tr>\n",
       "      <th>6</th>\n",
       "      <td>1</td>\n",
       "      <td>93.0</td>\n",
       "      <td>112.0</td>\n",
       "      <td>73.0</td>\n",
       "      <td>250.0</td>\n",
       "      <td>265.0</td>\n",
       "      <td>26.0</td>\n",
       "      <td>0</td>\n",
       "    </tr>\n",
       "    <tr>\n",
       "      <th>8</th>\n",
       "      <td>2</td>\n",
       "      <td>82.0</td>\n",
       "      <td>136.0</td>\n",
       "      <td>65.0</td>\n",
       "      <td>104.0</td>\n",
       "      <td>61.0</td>\n",
       "      <td>63.0</td>\n",
       "      <td>1</td>\n",
       "    </tr>\n",
       "  </tbody>\n",
       "</table>\n",
       "</div>"
      ],
      "text/plain": [
       "   성별코드  허리둘레  수축기혈압  이완기혈압   공복혈당  트리글리세라이드  HDL콜레스테롤  높은혈압\n",
       "0     1  72.1  127.0   79.0   90.0      58.0      58.0     0\n",
       "4     2  75.2  144.0   89.0  110.0     171.0      53.0     1\n",
       "5     1  94.0  114.0   72.0   86.0     183.0      50.0     0\n",
       "6     1  93.0  112.0   73.0  250.0     265.0      26.0     0\n",
       "8     2  82.0  136.0   65.0  104.0      61.0      63.0     1"
      ]
     },
     "execution_count": 22,
     "metadata": {},
     "output_type": "execute_result"
    }
   ],
   "source": [
    "df2.head()"
   ]
  },
  {
   "cell_type": "code",
   "execution_count": 23,
   "metadata": {},
   "outputs": [
    {
     "name": "stderr",
     "output_type": "stream",
     "text": [
      "C:\\Users\\user\\AppData\\Local\\Temp\\ipykernel_19140\\3291568284.py:1: SettingWithCopyWarning: \n",
      "A value is trying to be set on a copy of a slice from a DataFrame.\n",
      "Try using .loc[row_indexer,col_indexer] = value instead\n",
      "\n",
      "See the caveats in the documentation: https://pandas.pydata.org/pandas-docs/stable/user_guide/indexing.html#returning-a-view-versus-a-copy\n",
      "  df2['성별'] = np.where(df2['성별코드'] == 1, '남', '여')\n"
     ]
    }
   ],
   "source": [
    "df2['성별'] = np.where(df2['성별코드'] == 1, '남', '여')"
   ]
  },
  {
   "cell_type": "code",
   "execution_count": 26,
   "metadata": {},
   "outputs": [
    {
     "data": {
      "text/html": [
       "<div>\n",
       "<style scoped>\n",
       "    .dataframe tbody tr th:only-of-type {\n",
       "        vertical-align: middle;\n",
       "    }\n",
       "\n",
       "    .dataframe tbody tr th {\n",
       "        vertical-align: top;\n",
       "    }\n",
       "\n",
       "    .dataframe thead th {\n",
       "        text-align: right;\n",
       "    }\n",
       "</style>\n",
       "<table border=\"1\" class=\"dataframe\">\n",
       "  <thead>\n",
       "    <tr style=\"text-align: right;\">\n",
       "      <th></th>\n",
       "      <th>성별코드</th>\n",
       "    </tr>\n",
       "    <tr>\n",
       "      <th>성별</th>\n",
       "      <th></th>\n",
       "    </tr>\n",
       "  </thead>\n",
       "  <tbody>\n",
       "    <tr>\n",
       "      <th>남</th>\n",
       "      <td>197090</td>\n",
       "    </tr>\n",
       "    <tr>\n",
       "      <th>여</th>\n",
       "      <td>205159</td>\n",
       "    </tr>\n",
       "  </tbody>\n",
       "</table>\n",
       "</div>"
      ],
      "text/plain": [
       "      성별코드\n",
       "성별        \n",
       "남   197090\n",
       "여   205159"
      ]
     },
     "execution_count": 26,
     "metadata": {},
     "output_type": "execute_result"
    }
   ],
   "source": [
    "df2.groupby('성별').count()[['성별코드']]"
   ]
  }
 ],
 "metadata": {
  "kernelspec": {
   "display_name": "Python 3.9.13 ('base')",
   "language": "python",
   "name": "python3"
  },
  "language_info": {
   "codemirror_mode": {
    "name": "ipython",
    "version": 3
   },
   "file_extension": ".py",
   "mimetype": "text/x-python",
   "name": "python",
   "nbconvert_exporter": "python",
   "pygments_lexer": "ipython3",
   "version": "3.9.13 (main, Aug 25 2022, 23:51:50) [MSC v.1916 64 bit (AMD64)]"
  },
  "orig_nbformat": 4,
  "vscode": {
   "interpreter": {
    "hash": "ad2bdc8ecc057115af97d19610ffacc2b4e99fae6737bb82f5d7fb13d2f2c186"
   }
  }
 },
 "nbformat": 4,
 "nbformat_minor": 2
}
